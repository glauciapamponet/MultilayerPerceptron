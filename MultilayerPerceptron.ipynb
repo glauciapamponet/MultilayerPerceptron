{
  "nbformat": 4,
  "nbformat_minor": 0,
  "metadata": {
    "colab": {
      "name": "MultilayerPerceptron.ipynb",
      "provenance": [],
      "collapsed_sections": [
        "9xoduVRjsCrL",
        "QCO-BYM9sM8_",
        "7XFTXCvOtC38",
        "i7dE4Cs4tncZ",
        "RZ9-r27tPKMV",
        "0f2MkbqVPOlM",
        "L2DVOt-MPe64",
        "GVaf-SLcPkFs",
        "Mrdm_wZZCULA",
        "gxbDUspX-iDb",
        "InvCb2Ox-lV7",
        "tybYKEA9-qXW"
      ]
    },
    "kernelspec": {
      "name": "python3",
      "display_name": "Python 3"
    },
    "language_info": {
      "name": "python"
    }
  },
  "cells": [
    {
      "cell_type": "code",
      "metadata": {
        "id": "eJ7X7v_QxUFo"
      },
      "source": [
        "#GRUPO:\n",
        "#Giovanna Arana Paganotti - 11315033\n",
        "#Glaucia Pamponet Sobrinho - 11271000\n",
        "#Thais Bonjorni Nobre de Jesus - 10719302\n"
      ],
      "execution_count": null,
      "outputs": []
    },
    {
      "cell_type": "markdown",
      "metadata": {
        "id": "ggvE1KTYqp45"
      },
      "source": [
        "# **Imports e Métodos**"
      ]
    },
    {
      "cell_type": "code",
      "metadata": {
        "colab": {
          "base_uri": "https://localhost:8080/"
        },
        "id": "8pxA1wTm2vFW",
        "outputId": "73ba6f71-ffde-40ec-c365-d53f47a5b9b7"
      },
      "source": [
        "import numpy as np\n",
        "import pandas as pd\n",
        "import matplotlib.pyplot as plt\n",
        "from sklearn.model_selection import train_test_split\n",
        "from scipy.special import expit\n",
        "from google.colab import drive\n",
        "from google_drive_downloader import GoogleDriveDownloader as gdd\n",
        "from google.colab import drive\n",
        "drive.mount(\"/content/drive\")\n",
        "from mlxtend.evaluate import confusion_matrix\n",
        "from mlxtend.plotting import plot_confusion_matrix\n",
        "import plotly.figure_factory as ff\n",
        "import seaborn as sn\n",
        "\n",
        "google_id = '1KCUFOlIiEnYWYmMQqimb2vgT0iL8O1H0' #datasets - id no google drive"
      ],
      "execution_count": null,
      "outputs": [
        {
          "output_type": "stream",
          "text": [
            "Drive already mounted at /content/drive; to attempt to forcibly remount, call drive.mount(\"/content/drive\", force_remount=True).\n"
          ],
          "name": "stdout"
        }
      ]
    },
    {
      "cell_type": "code",
      "metadata": {
        "id": "1d6bkJ5gMaLf"
      },
      "source": [
        "def probsLogicos(problema):\n",
        "  gdd.download_file_from_google_drive(file_id=google_id, dest_path = './problem'+problema+'.csv', showsize = True) #download no drive\n",
        "  data = pd.read_csv(\"/content/drive/Shareddrives/Voodoo Chicken/5SEM/IA/MLP/CSVs/problem\"+problema+\".csv\", header=None).to_numpy() #faz array para facilitar o uso\n",
        "  # print('Dataset '+problema+\":\")\n",
        "  # print(data, \"\\n\\n\")\n",
        "  \n",
        "  #recorte de entradas e saidas\n",
        "  Xtrain = data[0:, 0:2].T\n",
        "  Ytrain = data[0:, 2:3].T\n",
        "\n",
        "  #cria o modelo\n",
        "  modelo = MultPerc(2, 31, 1)\t#entrada, escondida, saida\n",
        "\n",
        "  print(\"PESOS ESCONDIDA\\n\",modelo.Pesc.T)\n",
        "  print(\"\\nPESOS SAIDA\\n\",modelo.Psaida)\n",
        "  print(\"\\nBIAS ESCONDIDA\\n\",modelo.Besc.T)\n",
        "  print(\"\\nBIAS SAIDA\\n\",modelo.Bsaida.T)\n",
        "  print(\"\\n\\n\")\n",
        "\n",
        "  # print(problema+\" Antes do Treino:\")\n",
        "  # print(feedforward(modelo, Xtrain), \"\\n\")\n",
        "\n",
        "  back(modelo, Xtrain, Ytrain, 0.1, 0.001)\t#modelo, entradasDataset, saidasDataset, taxa aprend, limiteErro\n",
        "\n",
        "  # print(\"\\n\"+problema+\" Depois do Treino:\")\n",
        "  # print(feedforward(modelo, Xtrain))\n",
        "\n",
        "  return modelo"
      ],
      "execution_count": null,
      "outputs": []
    },
    {
      "cell_type": "code",
      "metadata": {
        "id": "F7ixmEVaFLAb"
      },
      "source": [
        "def fazBin(resultado):\n",
        "  resultado2 = np.copy(resultado)\n",
        "  rescop = resultado2.astype(int)\n",
        "  for i in range(0, resultado2.shape[0]):\n",
        "    r = 0\n",
        "    for m in range(0, int(len(resultado2[i]))):\n",
        "      if resultado2[i, m] > r:\n",
        "        r = resultado2[i, m]\n",
        "    ja = False\n",
        "    for o in range(0, int(len(resultado2[i]))):\n",
        "      if resultado2[i, o] == r and not ja:\n",
        "        ja = True\n",
        "        rescop[i, o] = int(1)\n",
        "      else: rescop[i, o] = int(0)\n",
        "    \n",
        "  return rescop"
      ],
      "execution_count": null,
      "outputs": []
    },
    {
      "cell_type": "code",
      "metadata": {
        "id": "_OpNJS3fRgJ_"
      },
      "source": [
        "def fazLetra(res):\n",
        "  resL = []\n",
        "  for h in res: resL.append(\"O\")\n",
        "  resL = np.array(resL)\n",
        "  for i in range(0, res.shape[0]):\n",
        "    if np.array_equal(res[i], np.array([1,0,0,0,0,0,0])): resL[i] = \"A\"\n",
        "    elif np.array_equal(res[i], np.array([0,1,0,0,0,0,0])): resL[i] = \"B\"\n",
        "    elif np.array_equal(res[i], np.array([0,0,1,0,0,0,0])): resL[i] = \"C\"\n",
        "    elif np.array_equal(res[i], np.array([0,0,0,1,0,0,0])): resL[i] = \"D\"\n",
        "    elif np.array_equal(res[i], np.array([0,0,0,0,1,0,0])): resL[i] = \"E\"\n",
        "    elif np.array_equal(res[i], np.array([0,0,0,0,0,1,0])): resL[i] = \"J\"\n",
        "    else: resL[i] = \"K\"\n",
        "  \n",
        "  return resL"
      ],
      "execution_count": null,
      "outputs": []
    },
    {
      "cell_type": "markdown",
      "metadata": {
        "id": "XTGPbBzJruWO"
      },
      "source": [
        "# **Estrutura do Modelo**"
      ]
    },
    {
      "cell_type": "code",
      "metadata": {
        "id": "mcBGktjTMZAG"
      },
      "source": [
        "class MultPerc():\n",
        "  def __init__(self, entra, esc, said):\n",
        "    self.entrada = entra\n",
        "    self.escondida = esc\n",
        "    self.saida = said\n",
        "    self.Pesc, self.Besc = self.geraPesos(esc, entra)\n",
        "    self.Psaida, self.Bsaida = self.geraPesos(said, esc)\n",
        "\n",
        "  def geraPesos(self, lin, col):\n",
        "    P = np.random.ranf((lin, col)) - 0.5\n",
        "    B = np.ones((lin, 1))\n",
        "    return P, B\n",
        "\n",
        "  def guardResult(self, resesc, resFesc, resai, resFsai):\n",
        "    self.resesc = resesc\n",
        "    self.resFesc = resFesc\n",
        "    self.resai = resai\n",
        "    self.resFsai = resFsai\n",
        "    \n",
        "  def guardEpoca(self, epc, lista):\n",
        "    self.epocas = epc\n",
        "    self.listaErro = lista\n"
      ],
      "execution_count": null,
      "outputs": []
    },
    {
      "cell_type": "markdown",
      "metadata": {
        "id": "y6-PS8ljr5yk"
      },
      "source": [
        "# **Função de Ativação e Derivada**"
      ]
    },
    {
      "cell_type": "code",
      "metadata": {
        "id": "pftUwgDZriEN"
      },
      "source": [
        "def funcAtivacao (av):\n",
        "  norberto = expit(av) #1/(1+exp(-x))\n",
        "  return norberto\n",
        "  \n",
        "def derivada (av):\n",
        "    return av - np.power(av, 2) #(funcAtivacao(av) * (1 - funcAtivacao(av)))"
      ],
      "execution_count": null,
      "outputs": []
    },
    {
      "cell_type": "markdown",
      "metadata": {
        "id": "9xoduVRjsCrL"
      },
      "source": [
        "# **FeedForward**"
      ]
    },
    {
      "cell_type": "code",
      "metadata": {
        "id": "gtrszKjcrnO0"
      },
      "source": [
        "def feedforward(modelo, linha):\n",
        "  #passando pela escondida\n",
        "  modelo.resesc = np.dot(modelo.Pesc, linha) + modelo.Besc\n",
        "  modelo.resFesc = funcAtivacao(modelo.resesc) #RESULTADO DA ESCONDIDA \n",
        "\n",
        "  #passando pela saida\n",
        "  modelo.resai = np.dot(modelo.Psaida, modelo.resFesc) + modelo.Bsaida\n",
        "  res = funcAtivacao(modelo.resai) #RESULTADO DA SAIDA USANDO A ESCONDIDA\n",
        "  modelo.resFsai = res\n",
        "\n",
        "  return res"
      ],
      "execution_count": null,
      "outputs": []
    },
    {
      "cell_type": "markdown",
      "metadata": {
        "id": "QCO-BYM9sM8_"
      },
      "source": [
        "# **Retro-Propagação de Erro - BackPropagation**"
      ]
    },
    {
      "cell_type": "code",
      "metadata": {
        "id": "CLd13XWhrcgf"
      },
      "source": [
        "def back(modelo, X, Y, learningRate, tresh):\n",
        "  errorList = []\n",
        "  tamData = int(len(X.T))\n",
        "  erroCorr = 2*tresh\n",
        "  epocas = 0\n",
        "\n",
        "  #rodando epocas até o erro ser aceitavel\n",
        "  while(erroCorr > tresh):\n",
        "    #passa por cada linha do dataset enviado no parametro\n",
        "    for i in range(0, tamData):\n",
        "      caso = X[0:len(X), i:i+1]\n",
        "      resposta = Y[0:len(Y), i:i+1]\n",
        "      \n",
        "      res = feedforward(modelo, caso)\n",
        "\n",
        "      erroCorr += float(np.sum((np.sum((res - resposta)**2, axis = 0, keepdims = True)), axis = 1, keepdims = True))\n",
        "\n",
        "      #TREINAMENTO DAS CAMADAS\n",
        "      dsaida = -2*(res - resposta)*(derivada(res)) #VARIAÇÂO SAIDA\n",
        "      dPsaida = np.dot(dsaida, modelo.resFesc.T)\n",
        "      dBsaida = np.sum(dsaida, axis = 1, keepdims = True)\n",
        "\n",
        "      desc = np.dot(modelo.Psaida.T, dsaida)*(derivada(modelo.resFesc)) #VARIAÇÃO ESCONDIDA\n",
        "      dPesc = np.dot(desc, caso.T) \n",
        "      dBesc = np.sum(desc, axis = 1, keepdims = True)\n",
        "\n",
        "      #ATUALIZAÇÃO NO MODELO\n",
        "      modelo.Psaida += learningRate*dPsaida\n",
        "      modelo.Bsaida += learningRate*dBsaida\n",
        "      modelo.Pesc += learningRate*dPesc\n",
        "      modelo.Besc += learningRate*dBesc\n",
        "\n",
        "    erroCorr = erroCorr/tamData\n",
        "    errorList.append(erroCorr) #lista com erros das epocas\n",
        "    epocas += 1\n",
        "\n",
        "    #print(\"ERRO:\", erroCorr)\n",
        "\n",
        "  modelo.guardEpoca(epocas, errorList)\n",
        "  \n",
        "  fig = plt.figure(figsize = (8,7))\n",
        "  fig.patch.set_facecolor('white')\n",
        "  plt.plot(range(0, modelo.epocas), modelo.listaErro, \"r-\")\n",
        "  plt.grid(False)\n",
        "  plt.title(\"Erro Por Epocas\")\n",
        "  plt.show()\n"
      ],
      "execution_count": null,
      "outputs": []
    },
    {
      "cell_type": "markdown",
      "metadata": {
        "id": "7XFTXCvOtC38"
      },
      "source": [
        "\n",
        "# **Teste dos Problemas Lógicos**"
      ]
    },
    {
      "cell_type": "markdown",
      "metadata": {
        "id": "i7dE4Cs4tncZ"
      },
      "source": [
        "### **AND**"
      ]
    },
    {
      "cell_type": "code",
      "metadata": {
        "id": "qdg_w1k53DK6",
        "colab": {
          "base_uri": "https://localhost:8080/",
          "height": 980
        },
        "outputId": "b20ac6bf-9a10-4481-eda5-56a7bedb5954"
      },
      "source": [
        "modelAND = probsLogicos(\"AND\")"
      ],
      "execution_count": null,
      "outputs": [
        {
          "output_type": "stream",
          "text": [
            "PESOS ESCONDIDA\n",
            " [[-0.46853362  0.28577599  0.36189913 -0.03294468  0.45496597 -0.26429986\n",
            "  -0.06876314  0.48939877  0.07330527 -0.25945897  0.28997147  0.00228164\n",
            "   0.1011787   0.33671854 -0.45702242 -0.42687395  0.08986996 -0.19929772\n",
            "   0.09809395  0.21019826  0.13063183 -0.33959392 -0.10439733  0.49979621\n",
            "   0.45975056 -0.40047714 -0.28151527 -0.46213332 -0.08127592  0.45396649\n",
            "  -0.48907596]\n",
            " [-0.4393178  -0.21702415  0.04937601  0.05028179 -0.09870783  0.43360636\n",
            "  -0.14321945  0.42206054  0.38915452 -0.18574781  0.01841321 -0.47764089\n",
            "   0.44048054 -0.04875634  0.0911756   0.33801614  0.18496998  0.47867275\n",
            "  -0.43186539 -0.41828756 -0.1652345   0.25044101  0.05525011 -0.47530238\n",
            "  -0.02306588  0.42200078 -0.22260885  0.17644044 -0.30367302  0.09565156\n",
            "   0.00390239]]\n",
            "\n",
            "PESOS SAIDA\n",
            " [[ 0.4539835   0.42311397  0.41863053 -0.43478592 -0.361823   -0.23876528\n",
            "   0.28796231 -0.17831412  0.14710006  0.37657815 -0.39000888 -0.2884338\n",
            "  -0.0482693   0.36085747 -0.15741784  0.12866278  0.38987245  0.44987601\n",
            "  -0.13816599 -0.07111233 -0.01941598 -0.1926613  -0.39176125 -0.20547038\n",
            "  -0.49655497 -0.18272727  0.07813362 -0.25958852 -0.39697598 -0.3582121\n",
            "   0.36310866]]\n",
            "\n",
            "BIAS ESCONDIDA\n",
            " [[1. 1. 1. 1. 1. 1. 1. 1. 1. 1. 1. 1. 1. 1. 1. 1. 1. 1. 1. 1. 1. 1. 1. 1.\n",
            "  1. 1. 1. 1. 1. 1. 1.]]\n",
            "\n",
            "BIAS SAIDA\n",
            " [[1.]]\n",
            "\n",
            "\n",
            "\n"
          ],
          "name": "stdout"
        },
        {
          "output_type": "display_data",
          "data": {
            "image/png": "[encoded data removed]",
            "text/plain": [
              "<Figure size 576x504 with 1 Axes>"
            ]
          },
          "metadata": {
            "tags": []
          }
        }
      ]
    },
    {
      "cell_type": "markdown",
      "metadata": {
        "id": "RZ9-r27tPKMV"
      },
      "source": [
        "### **OR**"
      ]
    },
    {
      "cell_type": "code",
      "metadata": {
        "id": "xWDHAocCKuV6",
        "colab": {
          "base_uri": "https://localhost:8080/"
        },
        "outputId": "be6f7c25-4b96-44ad-fc25-29ba891c3563"
      },
      "source": [
        "modelOR = probsLogicos(\"OR\")"
      ],
      "execution_count": null,
      "outputs": [
        {
          "output_type": "stream",
          "text": [
            "PESOS ESCONDIDA\n",
            " [[-0.44530853  0.42181291  0.00094731  0.4658991  -0.3182182  -0.00679266\n",
            "   0.34557967 -0.43945928  0.22997311  0.4192854   0.24995261 -0.3954971\n",
            "   0.19868187  0.17724077 -0.28933005  0.07518616 -0.13131004 -0.13413765\n",
            "  -0.25615023 -0.31033716 -0.26869909 -0.44226794  0.21329866  0.48434963\n",
            "   0.47658595 -0.03626733 -0.00719977 -0.4636237  -0.42985735  0.0051435\n",
            "   0.31328441]\n",
            " [-0.41372421  0.25685309  0.32831032 -0.00291991  0.20569499 -0.43634794\n",
            "   0.06946241 -0.34206198  0.40767077  0.17527343  0.37647872  0.30903626\n",
            "   0.16227705  0.04732308 -0.2850923   0.21151392  0.30515531  0.31075017\n",
            "  -0.30646067 -0.46811392  0.16062207 -0.00647246  0.44297143  0.02886156\n",
            "   0.27023241  0.37980195  0.3438015   0.10483634  0.2720032   0.24239059\n",
            "   0.11645407]]\n",
            "\n",
            "PESOS SAIDA\n",
            " [[ 0.25086131 -0.47232973  0.31670321 -0.2968927   0.459779    0.07928984\n",
            "   0.47254112 -0.43940924  0.31792837  0.2432063  -0.40360243  0.34285386\n",
            "  -0.48698175  0.3545783   0.06104146  0.05554996  0.47539629  0.3284631\n",
            "  -0.38920761  0.02811897  0.09194028 -0.42983852  0.42955027 -0.36555268\n",
            "  -0.48712829  0.23955605  0.42574638 -0.29433383  0.28055051  0.45908299\n",
            "  -0.27713153]]\n",
            "\n",
            "BIAS ESCONDIDA\n",
            " [[1. 1. 1. 1. 1. 1. 1. 1. 1. 1. 1. 1. 1. 1. 1. 1. 1. 1. 1. 1. 1. 1. 1. 1.\n",
            "  1. 1. 1. 1. 1. 1. 1.]]\n",
            "\n",
            "BIAS SAIDA\n",
            " [[1.]]\n"
          ],
          "name": "stdout"
        },
        {
          "output_type": "display_data",
          "data": {
            "image/png": "[encoded data removed]",
            "text/plain": [
              "<Figure size 576x504 with 1 Axes>"
            ]
          },
          "metadata": {
            "tags": []
          }
        }
      ]
    },
    {
      "cell_type": "markdown",
      "metadata": {
        "id": "0f2MkbqVPOlM"
      },
      "source": [
        "### **XOR**"
      ]
    },
    {
      "cell_type": "code",
      "metadata": {
        "id": "DGCVywDyOv7Z",
        "colab": {
          "base_uri": "https://localhost:8080/"
        },
        "outputId": "33e6ebb4-9abf-45f4-cfe3-44ab12ab1a27"
      },
      "source": [
        "modelXOR = probsLogicos(\"XOR\")"
      ],
      "execution_count": null,
      "outputs": [
        {
          "output_type": "stream",
          "text": [
            "PESOS ESCONDIDA\n",
            " [[ 0.44659687  0.32979592  0.12927493  0.04695103 -0.01990185 -0.01672903\n",
            "   0.18616065  0.47998084  0.26512689 -0.30929311 -0.28212365 -0.3705241\n",
            "   0.376933   -0.3480356   0.15376881 -0.44454021 -0.02945822  0.05677673\n",
            "  -0.15484301 -0.13923225 -0.14779142  0.18094482 -0.48325474  0.36524054\n",
            "   0.35366197 -0.15926957 -0.32129217 -0.47527732  0.45205761  0.26285471\n",
            "   0.10454001]\n",
            " [ 0.41286515 -0.43096843  0.48861088 -0.07534326 -0.03275146  0.46209048\n",
            "   0.37233302 -0.02808761 -0.08930045  0.18270325 -0.06363757  0.25234385\n",
            "  -0.30728904  0.40032467  0.30329704  0.34601707 -0.16812311 -0.49665841\n",
            "  -0.18753454  0.20052611 -0.23924981  0.31287916  0.19563051 -0.06617524\n",
            "   0.46149757 -0.11894198 -0.1104551   0.00833205 -0.47683613  0.3781762\n",
            "  -0.02099325]]\n",
            "\n",
            "PESOS SAIDA\n",
            " [[-0.19409671  0.32999519 -0.25521695  0.40265003  0.11314878 -0.03046429\n",
            "   0.19310291 -0.14785542  0.22812959  0.32037209 -0.38154596 -0.12219952\n",
            "   0.48333843 -0.0182324   0.47291507 -0.28747977  0.20456053  0.29984626\n",
            "   0.21812127  0.1228474  -0.12219438  0.19717182  0.20642927 -0.13857839\n",
            "  -0.24118988 -0.48744006 -0.26917396  0.09876802  0.1452255   0.18650912\n",
            "  -0.1921738 ]]\n",
            "\n",
            "BIAS ESCONDIDA\n",
            " [[1. 1. 1. 1. 1. 1. 1. 1. 1. 1. 1. 1. 1. 1. 1. 1. 1. 1. 1. 1. 1. 1. 1. 1.\n",
            "  1. 1. 1. 1. 1. 1. 1.]]\n",
            "\n",
            "BIAS SAIDA\n",
            " [[1.]]\n"
          ],
          "name": "stdout"
        },
        {
          "output_type": "display_data",
          "data": {
            "image/png": "[encoded data removed]",
            "text/plain": [
              "<Figure size 576x504 with 1 Axes>"
            ]
          },
          "metadata": {
            "tags": []
          }
        }
      ]
    },
    {
      "cell_type": "markdown",
      "metadata": {
        "id": "ZUSv12gVPU2h"
      },
      "source": [
        "# **Dataset Caracteres Limpos**"
      ]
    },
    {
      "cell_type": "markdown",
      "metadata": {
        "id": "L2DVOt-MPe64"
      },
      "source": [
        "### **Treinamento**"
      ]
    },
    {
      "cell_type": "code",
      "metadata": {
        "id": "f5MdH5q9Pdm3",
        "colab": {
          "base_uri": "https://localhost:8080/"
        },
        "outputId": "0c2fcaee-8200-48cf-b739-e195d3f21fb1"
      },
      "source": [
        "gdd.download_file_from_google_drive(file_id=google_id, dest_path = './caracteres-limpo.csv', showsize = True)\n",
        "dataLIMPO = pd.read_csv(\"/content/drive/Shareddrives/Voodoo Chicken/5SEM/IA/MLP/CSVs/caracteres-limpo.csv\", header=None, low_memory=False)\n",
        "dataLIMPO.head(dataLIMPO.shape[0])\n",
        "\n",
        "\n",
        "#print(dataLIMPO, \"\\n\\n\")\n",
        "dataLIMPO = dataLIMPO.to_numpy()\n",
        "\n",
        "#SEPARAÇÃO DAS ENTRADAS E SAIDAS\n",
        "Xtrain = dataLIMPO[0:, 0:63]\n",
        "Ytrain = dataLIMPO[0:, 63:]\n",
        "\n",
        "entreino, enteste, saitreino, saiteste = train_test_split(Xtrain, Ytrain, test_size=0.3)\n",
        "\n",
        "particaoENT = pd.DataFrame(entreino)\n",
        "particaoSAI = pd.DataFrame(saitreino)\n",
        "particaoENT.to_csv('/content/drive/Shareddrives/Voodoo Chicken/5SEM/IA/MLP/CSVs/arquivoEnt.csv')\n",
        "particaoSAI.to_csv('/content/drive/Shareddrives/Voodoo Chicken/5SEM/IA/MLP/CSVs/arquivoSai.csv')\n",
        "\n",
        "# #cria o modelo\n",
        "modelo = MultPerc(63, 31, 7)\t#entrada, escondida, saida\n",
        "\n",
        "# print(\" Antes do Treino:\\n\")\n",
        "# antesLIMPO = pd.DataFrame(forwardProp(modelo, entreino.T).T)\n",
        "# print(antesLIMPO.head(antesLIMPO.shape[0]), \"\\n\\n\")\n",
        "\n",
        "print(\"Resultados do Conjunto:\\n\")\n",
        "saidaset = pd.DataFrame(saitreino)\n",
        "print(saidaset.head(saidaset.shape[0]), \"\\n\\n\")\n",
        "\n",
        "back(modelo, entreino.T, saitreino.T, 0.1, 0.001)\t#modelo, entradasDataset, saidasDataset, taxa, limiteErro\n",
        "\n",
        "print(\"\\n Depois do Treino:\\n\")\n",
        "limpoTREINO = pd.DataFrame(feedforward(modelo, entreino.T).T)\n",
        "limpoTREINO.head(limpoTREINO.shape[0])"
      ],
      "execution_count": null,
      "outputs": [
        {
          "output_type": "stream",
          "text": [
            "Resultados do Conjunto:\n",
            "\n",
            "    0  1  2  3  4  5  6\n",
            "0   0  1  0  0  0  0  0\n",
            "1   1  0  0  0  0  0  0\n",
            "2   0  0  1  0  0  0  0\n",
            "3   0  0  0  1  0  0  0\n",
            "4   0  0  0  0  0  1  0\n",
            "5   0  0  0  1  0  0  0\n",
            "6   1  0  0  0  0  0  0\n",
            "7   0  0  0  0  0  0  1\n",
            "8   0  0  0  0  1  0  0\n",
            "9   0  1  0  0  0  0  0\n",
            "10  0  0  0  0  0  0  1\n",
            "11  0  0  0  1  0  0  0\n",
            "12  0  0  0  0  1  0  0\n",
            "13  0  0  1  0  0  0  0 \n",
            "\n",
            "\n"
          ],
          "name": "stdout"
        },
        {
          "output_type": "display_data",
          "data": {
            "image/png": "[encoded data removed]",
            "text/plain": [
              "<Figure size 576x504 with 1 Axes>"
            ]
          },
          "metadata": {
            "tags": []
          }
        },
        {
          "output_type": "stream",
          "text": [
            "\n",
            " Depois do Treino:\n",
            "\n"
          ],
          "name": "stdout"
        },
        {
          "output_type": "execute_result",
          "data": {
            "text/html": [
              "<div>\n",
              "<style scoped>\n",
              "    .dataframe tbody tr th:only-of-type {\n",
              "        vertical-align: middle;\n",
              "    }\n",
              "\n",
              "    .dataframe tbody tr th {\n",
              "        vertical-align: top;\n",
              "    }\n",
              "\n",
              "    .dataframe thead th {\n",
              "        text-align: right;\n",
              "    }\n",
              "</style>\n",
              "<table border=\"1\" class=\"dataframe\">\n",
              "  <thead>\n",
              "    <tr style=\"text-align: right;\">\n",
              "      <th></th>\n",
              "      <th>0</th>\n",
              "      <th>1</th>\n",
              "      <th>2</th>\n",
              "      <th>3</th>\n",
              "      <th>4</th>\n",
              "      <th>5</th>\n",
              "      <th>6</th>\n",
              "    </tr>\n",
              "  </thead>\n",
              "  <tbody>\n",
              "    <tr>\n",
              "      <th>0</th>\n",
              "      <td>0.001459</td>\n",
              "      <td>0.977508</td>\n",
              "      <td>0.009891</td>\n",
              "      <td>0.012318</td>\n",
              "      <td>0.017394</td>\n",
              "      <td>0.011038</td>\n",
              "      <td>0.001652</td>\n",
              "    </tr>\n",
              "    <tr>\n",
              "      <th>1</th>\n",
              "      <td>0.980521</td>\n",
              "      <td>0.002447</td>\n",
              "      <td>0.006720</td>\n",
              "      <td>0.003660</td>\n",
              "      <td>0.007632</td>\n",
              "      <td>0.013831</td>\n",
              "      <td>0.005008</td>\n",
              "    </tr>\n",
              "    <tr>\n",
              "      <th>2</th>\n",
              "      <td>0.007076</td>\n",
              "      <td>0.005959</td>\n",
              "      <td>0.982439</td>\n",
              "      <td>0.011836</td>\n",
              "      <td>0.006323</td>\n",
              "      <td>0.012742</td>\n",
              "      <td>0.006654</td>\n",
              "    </tr>\n",
              "    <tr>\n",
              "      <th>3</th>\n",
              "      <td>0.005221</td>\n",
              "      <td>0.008822</td>\n",
              "      <td>0.005161</td>\n",
              "      <td>0.986338</td>\n",
              "      <td>0.003399</td>\n",
              "      <td>0.009901</td>\n",
              "      <td>0.008696</td>\n",
              "    </tr>\n",
              "    <tr>\n",
              "      <th>4</th>\n",
              "      <td>0.015663</td>\n",
              "      <td>0.014321</td>\n",
              "      <td>0.014324</td>\n",
              "      <td>0.010694</td>\n",
              "      <td>0.000084</td>\n",
              "      <td>0.969333</td>\n",
              "      <td>0.014748</td>\n",
              "    </tr>\n",
              "    <tr>\n",
              "      <th>5</th>\n",
              "      <td>0.007582</td>\n",
              "      <td>0.010232</td>\n",
              "      <td>0.008903</td>\n",
              "      <td>0.982970</td>\n",
              "      <td>0.007176</td>\n",
              "      <td>0.005654</td>\n",
              "      <td>0.003056</td>\n",
              "    </tr>\n",
              "    <tr>\n",
              "      <th>6</th>\n",
              "      <td>0.980241</td>\n",
              "      <td>0.002947</td>\n",
              "      <td>0.004196</td>\n",
              "      <td>0.004891</td>\n",
              "      <td>0.014836</td>\n",
              "      <td>0.008049</td>\n",
              "      <td>0.009479</td>\n",
              "    </tr>\n",
              "    <tr>\n",
              "      <th>7</th>\n",
              "      <td>0.006079</td>\n",
              "      <td>0.001549</td>\n",
              "      <td>0.011273</td>\n",
              "      <td>0.010160</td>\n",
              "      <td>0.013797</td>\n",
              "      <td>0.010615</td>\n",
              "      <td>0.981076</td>\n",
              "    </tr>\n",
              "    <tr>\n",
              "      <th>8</th>\n",
              "      <td>0.013622</td>\n",
              "      <td>0.009634</td>\n",
              "      <td>0.008464</td>\n",
              "      <td>0.003863</td>\n",
              "      <td>0.978177</td>\n",
              "      <td>0.000235</td>\n",
              "      <td>0.015730</td>\n",
              "    </tr>\n",
              "    <tr>\n",
              "      <th>9</th>\n",
              "      <td>0.001882</td>\n",
              "      <td>0.980658</td>\n",
              "      <td>0.003686</td>\n",
              "      <td>0.010104</td>\n",
              "      <td>0.012797</td>\n",
              "      <td>0.005456</td>\n",
              "      <td>0.005841</td>\n",
              "    </tr>\n",
              "    <tr>\n",
              "      <th>10</th>\n",
              "      <td>0.011193</td>\n",
              "      <td>0.001805</td>\n",
              "      <td>0.005821</td>\n",
              "      <td>0.010109</td>\n",
              "      <td>0.011804</td>\n",
              "      <td>0.010837</td>\n",
              "      <td>0.978986</td>\n",
              "    </tr>\n",
              "    <tr>\n",
              "      <th>11</th>\n",
              "      <td>0.005221</td>\n",
              "      <td>0.008822</td>\n",
              "      <td>0.005161</td>\n",
              "      <td>0.986338</td>\n",
              "      <td>0.003399</td>\n",
              "      <td>0.009901</td>\n",
              "      <td>0.008696</td>\n",
              "    </tr>\n",
              "    <tr>\n",
              "      <th>12</th>\n",
              "      <td>0.009072</td>\n",
              "      <td>0.017176</td>\n",
              "      <td>0.014816</td>\n",
              "      <td>0.007889</td>\n",
              "      <td>0.975150</td>\n",
              "      <td>0.000121</td>\n",
              "      <td>0.008819</td>\n",
              "    </tr>\n",
              "    <tr>\n",
              "      <th>13</th>\n",
              "      <td>0.007642</td>\n",
              "      <td>0.008166</td>\n",
              "      <td>0.977688</td>\n",
              "      <td>0.002538</td>\n",
              "      <td>0.010872</td>\n",
              "      <td>0.007774</td>\n",
              "      <td>0.006012</td>\n",
              "    </tr>\n",
              "  </tbody>\n",
              "</table>\n",
              "</div>"
            ],
            "text/plain": [
              "           0         1         2         3         4         5         6\n",
              "0   0.001459  0.977508  0.009891  0.012318  0.017394  0.011038  0.001652\n",
              "1   0.980521  0.002447  0.006720  0.003660  0.007632  0.013831  0.005008\n",
              "2   0.007076  0.005959  0.982439  0.011836  0.006323  0.012742  0.006654\n",
              "3   0.005221  0.008822  0.005161  0.986338  0.003399  0.009901  0.008696\n",
              "4   0.015663  0.014321  0.014324  0.010694  0.000084  0.969333  0.014748\n",
              "5   0.007582  0.010232  0.008903  0.982970  0.007176  0.005654  0.003056\n",
              "6   0.980241  0.002947  0.004196  0.004891  0.014836  0.008049  0.009479\n",
              "7   0.006079  0.001549  0.011273  0.010160  0.013797  0.010615  0.981076\n",
              "8   0.013622  0.009634  0.008464  0.003863  0.978177  0.000235  0.015730\n",
              "9   0.001882  0.980658  0.003686  0.010104  0.012797  0.005456  0.005841\n",
              "10  0.011193  0.001805  0.005821  0.010109  0.011804  0.010837  0.978986\n",
              "11  0.005221  0.008822  0.005161  0.986338  0.003399  0.009901  0.008696\n",
              "12  0.009072  0.017176  0.014816  0.007889  0.975150  0.000121  0.008819\n",
              "13  0.007642  0.008166  0.977688  0.002538  0.010872  0.007774  0.006012"
            ]
          },
          "metadata": {
            "tags": []
          },
          "execution_count": 115
        }
      ]
    },
    {
      "cell_type": "code",
      "metadata": {
        "colab": {
          "base_uri": "https://localhost:8080/"
        },
        "id": "VP933Wsx9FVJ",
        "outputId": "03301377-054d-4a7f-f0a3-c66c197daaa9"
      },
      "source": [
        "jedo = fazLetra(fazBin(feedforward(modelo, entreino.T).T))\n",
        "jeda = fazLetra(saitreino)\n",
        "cm = confusion_matrix(jedo, jeda, binary=False)\n",
        "uniao = np.union1d(jeda, jedo)\n",
        "df_cm = pd.DataFrame(cm,  columns=np.unique(uniao), index = np.unique(uniao))\n",
        "df_cm.index.name = 'Expectativa'\n",
        "df_cm.columns.name = 'Realidade'\n",
        "figu = plt.figure(figsize = (8,7))\n",
        "figu.patch.set_facecolor('white')\n",
        "plt.title(\"\\nMatriz de Confusão\\n\")\n",
        "sn.heatmap(df_cm, annot=True, linewidths=.5, cbar = False) "
      ],
      "execution_count": null,
      "outputs": [
        {
          "output_type": "execute_result",
          "data": {
            "text/plain": [
              "<matplotlib.axes._subplots.AxesSubplot at 0x7fcaa6912c50>"
            ]
          },
          "metadata": {
            "tags": []
          },
          "execution_count": 116
        },
        {
          "output_type": "display_data",
          "data": {
            "image/png": "[encoded data removed]",
            "text/plain": [
              "<Figure size 576x504 with 1 Axes>"
            ]
          },
          "metadata": {
            "tags": []
          }
        }
      ]
    },
    {
      "cell_type": "markdown",
      "metadata": {
        "id": "GVaf-SLcPkFs"
      },
      "source": [
        "### **Teste**"
      ]
    },
    {
      "cell_type": "markdown",
      "metadata": {
        "id": "XuqcRENIGv2w"
      },
      "source": [
        "Resposta do Conjunto de Teste"
      ]
    },
    {
      "cell_type": "code",
      "metadata": {
        "id": "4SAzRJ4NPiL9",
        "colab": {
          "base_uri": "https://localhost:8080/"
        },
        "outputId": "51a217c3-f42f-42d9-bb34-679e5b16f6a0"
      },
      "source": [
        "\n",
        "#TESTE LIMPO\n",
        "jedo = fazLetra(saiteste) #transforma resposta certa em letra\n",
        "print(\"Resultado certo:\", jedo)\n",
        "testeset = pd.DataFrame(saiteste)\n",
        "print(testeset.head(saiteste.shape[0]), \"\\n\\n\")\n",
        "\n",
        "print(\"Resultado Obtido:\")\n",
        "limpoTESTE = pd.DataFrame(feedforward(modelo, enteste.T).T)\n",
        "print(limpoTESTE.head(limpoTESTE.shape[0]), \"\\n\\n\")\n",
        "\n",
        "variavel = fazBin(limpoTESTE) #transforma resposta da rede em binario\n",
        "jeda = fazLetra(variavel) #transforma binario em letra\n",
        "print(\"Resultado Aproximado:\", jeda)\n",
        "print(pd.DataFrame(variavel).head(limpoTESTE.shape[0]))\n",
        "\n",
        "\n"
      ],
      "execution_count": null,
      "outputs": [
        {
          "output_type": "stream",
          "text": [
            "Resultado certo: ['J' 'J' 'E' 'K' 'C' 'B' 'A']\n",
            "   0  1  2  3  4  5  6\n",
            "0  0  0  0  0  0  1  0\n",
            "1  0  0  0  0  0  1  0\n",
            "2  0  0  0  0  1  0  0\n",
            "3  0  0  0  0  0  0  1\n",
            "4  0  0  1  0  0  0  0\n",
            "5  0  1  0  0  0  0  0\n",
            "6  1  0  0  0  0  0  0 \n",
            "\n",
            "\n",
            "Resultado Obtido:\n",
            "          0         1         2         3         4         5         6\n",
            "0  0.017362  0.006955  0.027058  0.017054  0.000337  0.936406  0.013302\n",
            "1  0.021512  0.005654  0.028856  0.009769  0.000454  0.913060  0.008828\n",
            "2  0.007625  0.011281  0.020218  0.003356  0.629172  0.000636  0.107243\n",
            "3  0.062037  0.006897  0.015454  0.225202  0.030894  0.011342  0.053890\n",
            "4  0.010209  0.005112  0.963112  0.039529  0.004849  0.021398  0.005390\n",
            "5  0.002630  0.075784  0.003841  0.510227  0.025436  0.002083  0.015081\n",
            "6  0.415659  0.006425  0.009961  0.005448  0.051861  0.004422  0.004474 \n",
            "\n",
            "\n",
            "Resultado Aproximado: ['J' 'J' 'E' 'D' 'C' 'D' 'A']\n",
            "   0  1  2  3  4  5  6\n",
            "0  0  0  0  0  0  1  0\n",
            "1  0  0  0  0  0  1  0\n",
            "2  0  0  0  0  1  0  0\n",
            "3  0  0  0  1  0  0  0\n",
            "4  0  0  1  0  0  0  0\n",
            "5  0  0  0  1  0  0  0\n",
            "6  1  0  0  0  0  0  0\n"
          ],
          "name": "stdout"
        }
      ]
    },
    {
      "cell_type": "code",
      "metadata": {
        "colab": {
          "base_uri": "https://localhost:8080/"
        },
        "id": "rBhTXOAod9vU",
        "outputId": "ee5af228-b973-442f-83d3-380870575e8d"
      },
      "source": [
        "print(modelo.Pesc)\n",
        "print(modelo.Besc)"
      ],
      "execution_count": null,
      "outputs": [
        {
          "output_type": "stream",
          "text": [
            "[[ 0.26047799  0.07391095 -0.36587968 ... -0.25879364 -0.4552476\n",
            "   0.01699951]\n",
            " [ 0.3191164   0.18422942  0.40365925 ... -0.21009339 -0.13463881\n",
            "  -0.00853882]\n",
            " [-0.31184053 -0.25556025  0.22945751 ... -0.24927963  0.12510901\n",
            "   0.44565529]\n",
            " ...\n",
            " [-0.08856949 -0.51032369  0.4402695  ...  0.12334668  0.30117726\n",
            "  -0.6457071 ]\n",
            " [ 0.13903463  0.00287298 -0.21377994 ... -0.34172216  0.15066149\n",
            "   0.44275646]\n",
            " [ 0.34623891 -0.07462173  0.15622983 ... -0.57143244  0.0912328\n",
            "   0.69799131]]\n",
            "[[0.93260443]\n",
            " [0.93334001]\n",
            " [0.9411694 ]\n",
            " [0.99099403]\n",
            " [0.98627904]\n",
            " [1.03675006]\n",
            " [1.04813623]\n",
            " [1.07691792]\n",
            " [1.00542261]\n",
            " [1.04875283]\n",
            " [1.03647637]\n",
            " [1.09286167]\n",
            " [1.00426366]\n",
            " [0.96906682]\n",
            " [0.9596681 ]\n",
            " [0.95957328]\n",
            " [0.95933848]\n",
            " [1.01241881]\n",
            " [0.94630649]\n",
            " [1.02108079]\n",
            " [1.00657324]\n",
            " [1.00677672]\n",
            " [0.96486978]\n",
            " [1.01093359]\n",
            " [1.04421914]\n",
            " [0.92772853]\n",
            " [0.85751634]\n",
            " [0.93763385]\n",
            " [1.00708835]\n",
            " [1.02146922]\n",
            " [0.96639764]]\n"
          ],
          "name": "stdout"
        }
      ]
    },
    {
      "cell_type": "markdown",
      "metadata": {
        "id": "Mrdm_wZZCULA"
      },
      "source": [
        "### **Matriz de Confusão**"
      ]
    },
    {
      "cell_type": "code",
      "metadata": {
        "id": "bbny2cW7CdSF",
        "colab": {
          "base_uri": "https://localhost:8080/"
        },
        "outputId": "41a5cfdf-8397-48b4-da1c-37e9f7001c8f"
      },
      "source": [
        "#MATRIZ\n",
        "cm = confusion_matrix(jedo, jeda, binary=False)\n",
        "\n",
        "#UNIAO DOS LABELS PARA REPRESENTAR\n",
        "uniao = np.union1d(jeda, jedo)\n",
        "\n",
        "#REP GRAFICA\n",
        "df_cm = pd.DataFrame(cm,  columns=np.unique(uniao), index = np.unique(uniao))\n",
        "df_cm.index.name = 'Expectativa'\n",
        "df_cm.columns.name = 'Realidade'\n",
        "figu = plt.figure(figsize = (8,7))\n",
        "figu.patch.set_facecolor('white')\n",
        "plt.title(\"\\nMatriz de Confusão Limpo\\n\")\n",
        "sn.heatmap(df_cm, annot=True, linewidths=.5, cbar = False) "
      ],
      "execution_count": null,
      "outputs": [
        {
          "output_type": "execute_result",
          "data": {
            "text/plain": [
              "<matplotlib.axes._subplots.AxesSubplot at 0x7fcaa6828dd0>"
            ]
          },
          "metadata": {
            "tags": []
          },
          "execution_count": 119
        },
        {
          "output_type": "display_data",
          "data": {
            "image/png": "[encoded data removed]",
            "text/plain": [
              "<Figure size 576x504 with 1 Axes>"
            ]
          },
          "metadata": {
            "tags": []
          }
        }
      ]
    },
    {
      "cell_type": "markdown",
      "metadata": {
        "id": "zWfvdQoC-Xoi"
      },
      "source": [
        "# **Dataset Caracteres com Ruído**"
      ]
    },
    {
      "cell_type": "markdown",
      "metadata": {
        "id": "gxbDUspX-iDb"
      },
      "source": [
        "### **Treinamento**"
      ]
    },
    {
      "cell_type": "code",
      "metadata": {
        "colab": {
          "base_uri": "https://localhost:8080/"
        },
        "id": "ITafQFN9-hCv",
        "outputId": "b7cba965-a418-45f0-a978-1c2b7d5e19e6"
      },
      "source": [
        "gdd.download_file_from_google_drive(file_id=google_id, dest_path = './caracteres-ruido.csv', showsize = True)\n",
        "dataRUIDO = pd.read_csv(\"/content/drive/Shareddrives/Voodoo Chicken/5SEM/IA/MLP/CSVs/caracteres-ruido.csv\", header=None, low_memory=False)\n",
        "dataRUIDO.head(dataRUIDO.shape[0])\n",
        "\n",
        "\n",
        "#print(dataLIMPO, \"\\n\\n\")\n",
        "dataRUIDO = dataRUIDO.to_numpy()\n",
        "\n",
        "#SEPARA ENTRADA DA SAIDA\n",
        "XtrainR = dataRUIDO[0:, 0:63]\n",
        "YtrainR = dataRUIDO[0:, 63:]\n",
        "\n",
        "#DIVISAO ALEATORIA DO DATASET EM PARTE DE TREINO E TESTE\n",
        "entreinoR, entesteR, saitreinoR, saitesteR = train_test_split(XtrainR, YtrainR, test_size=0.3)\n",
        "\n",
        "particaoENTr = pd.DataFrame(entreino)\n",
        "particaoSAIr = pd.DataFrame(saitreino)\n",
        "particaoENTr.to_csv('/content/drive/Shareddrives/Voodoo Chicken/5SEM/IA/MLP/CSVs/arquivoEntR.csv')\n",
        "particaoSAIr.to_csv('/content/drive/Shareddrives/Voodoo Chicken/5SEM/IA/MLP/CSVs/arquivoSaiR.csv')\n",
        "\n",
        "# #cria o modelo\n",
        "modeloRuido = MultPerc(63, 31, 7)\t#entrada, escondida, saida\n",
        "\n",
        "# print(\" Antes do Treino:\\n\")\n",
        "# antesLIMPO = pd.DataFrame(forwardProp(modelo, entreino.T).T)\n",
        "# print(antesLIMPO.head(antesLIMPO.shape[0]), \"\\n\\n\")\n",
        "\n",
        "print(\"Resultados do Conjunto:\\n\")\n",
        "saidasetR = pd.DataFrame(saitreinoR)\n",
        "print(saidasetR.head(saidasetR.shape[0]), \"\\n\\n\")\n",
        "\n",
        "back(modeloRuido, entreinoR.T, saitreinoR.T, 0.1, 0.001)\t#modelo, entradasDataset, saidasDataset, taxa, limiteErro\n",
        "\n",
        "print(\"\\n Depois do Treino:\\n\")\n",
        "ruidoTREINO = pd.DataFrame(feedforward(modeloRuido, entreinoR.T).T)\n",
        "ruidoTREINO.head(ruidoTREINO.shape[0])"
      ],
      "execution_count": null,
      "outputs": [
        {
          "output_type": "stream",
          "text": [
            "Resultados do Conjunto:\n",
            "\n",
            "    0  1  2  3  4  5  6\n",
            "0   0  1  0  0  0  0  0\n",
            "1   0  0  1  0  0  0  0\n",
            "2   0  0  0  0  0  1  0\n",
            "3   1  0  0  0  0  0  0\n",
            "4   0  0  0  0  1  0  0\n",
            "5   0  0  0  1  0  0  0\n",
            "6   0  1  0  0  0  0  0\n",
            "7   0  0  0  0  0  0  1\n",
            "8   0  0  0  0  0  1  0\n",
            "9   0  1  0  0  0  0  0\n",
            "10  0  0  0  0  1  0  0\n",
            "11  0  0  0  0  0  0  1\n",
            "12  0  0  0  1  0  0  0\n",
            "13  1  0  0  0  0  0  0 \n",
            "\n",
            "\n"
          ],
          "name": "stdout"
        },
        {
          "output_type": "display_data",
          "data": {
            "image/png": "[encoded data removed]",
            "text/plain": [
              "<Figure size 576x504 with 1 Axes>"
            ]
          },
          "metadata": {
            "tags": []
          }
        },
        {
          "output_type": "stream",
          "text": [
            "\n",
            " Depois do Treino:\n",
            "\n"
          ],
          "name": "stdout"
        },
        {
          "output_type": "execute_result",
          "data": {
            "text/html": [
              "<div>\n",
              "<style scoped>\n",
              "    .dataframe tbody tr th:only-of-type {\n",
              "        vertical-align: middle;\n",
              "    }\n",
              "\n",
              "    .dataframe tbody tr th {\n",
              "        vertical-align: top;\n",
              "    }\n",
              "\n",
              "    .dataframe thead th {\n",
              "        text-align: right;\n",
              "    }\n",
              "</style>\n",
              "<table border=\"1\" class=\"dataframe\">\n",
              "  <thead>\n",
              "    <tr style=\"text-align: right;\">\n",
              "      <th></th>\n",
              "      <th>0</th>\n",
              "      <th>1</th>\n",
              "      <th>2</th>\n",
              "      <th>3</th>\n",
              "      <th>4</th>\n",
              "      <th>5</th>\n",
              "      <th>6</th>\n",
              "    </tr>\n",
              "  </thead>\n",
              "  <tbody>\n",
              "    <tr>\n",
              "      <th>0</th>\n",
              "      <td>0.009013</td>\n",
              "      <td>0.981638</td>\n",
              "      <td>0.004312</td>\n",
              "      <td>0.008676</td>\n",
              "      <td>0.013724</td>\n",
              "      <td>0.002006</td>\n",
              "      <td>0.002570</td>\n",
              "    </tr>\n",
              "    <tr>\n",
              "      <th>1</th>\n",
              "      <td>0.013463</td>\n",
              "      <td>0.014858</td>\n",
              "      <td>0.972766</td>\n",
              "      <td>0.014017</td>\n",
              "      <td>0.003380</td>\n",
              "      <td>0.013042</td>\n",
              "      <td>0.011979</td>\n",
              "    </tr>\n",
              "    <tr>\n",
              "      <th>2</th>\n",
              "      <td>0.014029</td>\n",
              "      <td>0.004032</td>\n",
              "      <td>0.007944</td>\n",
              "      <td>0.008111</td>\n",
              "      <td>0.010963</td>\n",
              "      <td>0.979035</td>\n",
              "      <td>0.008364</td>\n",
              "    </tr>\n",
              "    <tr>\n",
              "      <th>3</th>\n",
              "      <td>0.976908</td>\n",
              "      <td>0.006033</td>\n",
              "      <td>0.011810</td>\n",
              "      <td>0.001655</td>\n",
              "      <td>0.009269</td>\n",
              "      <td>0.008350</td>\n",
              "      <td>0.004159</td>\n",
              "    </tr>\n",
              "    <tr>\n",
              "      <th>4</th>\n",
              "      <td>0.005919</td>\n",
              "      <td>0.005452</td>\n",
              "      <td>0.003029</td>\n",
              "      <td>0.012165</td>\n",
              "      <td>0.979064</td>\n",
              "      <td>0.005292</td>\n",
              "      <td>0.009345</td>\n",
              "    </tr>\n",
              "    <tr>\n",
              "      <th>5</th>\n",
              "      <td>0.012518</td>\n",
              "      <td>0.011079</td>\n",
              "      <td>0.003124</td>\n",
              "      <td>0.978669</td>\n",
              "      <td>0.003990</td>\n",
              "      <td>0.009378</td>\n",
              "      <td>0.010984</td>\n",
              "    </tr>\n",
              "    <tr>\n",
              "      <th>6</th>\n",
              "      <td>0.007632</td>\n",
              "      <td>0.986058</td>\n",
              "      <td>0.007954</td>\n",
              "      <td>0.010766</td>\n",
              "      <td>0.008500</td>\n",
              "      <td>0.004512</td>\n",
              "      <td>0.006194</td>\n",
              "    </tr>\n",
              "    <tr>\n",
              "      <th>7</th>\n",
              "      <td>0.012081</td>\n",
              "      <td>0.007837</td>\n",
              "      <td>0.012442</td>\n",
              "      <td>0.006675</td>\n",
              "      <td>0.005763</td>\n",
              "      <td>0.006142</td>\n",
              "      <td>0.980288</td>\n",
              "    </tr>\n",
              "    <tr>\n",
              "      <th>8</th>\n",
              "      <td>0.012439</td>\n",
              "      <td>0.005164</td>\n",
              "      <td>0.009296</td>\n",
              "      <td>0.007389</td>\n",
              "      <td>0.009691</td>\n",
              "      <td>0.979345</td>\n",
              "      <td>0.007630</td>\n",
              "    </tr>\n",
              "    <tr>\n",
              "      <th>9</th>\n",
              "      <td>0.003285</td>\n",
              "      <td>0.983609</td>\n",
              "      <td>0.011031</td>\n",
              "      <td>0.012406</td>\n",
              "      <td>0.013027</td>\n",
              "      <td>0.001736</td>\n",
              "      <td>0.007736</td>\n",
              "    </tr>\n",
              "    <tr>\n",
              "      <th>10</th>\n",
              "      <td>0.007509</td>\n",
              "      <td>0.016539</td>\n",
              "      <td>0.001185</td>\n",
              "      <td>0.004708</td>\n",
              "      <td>0.978424</td>\n",
              "      <td>0.016186</td>\n",
              "      <td>0.008544</td>\n",
              "    </tr>\n",
              "    <tr>\n",
              "      <th>11</th>\n",
              "      <td>0.005178</td>\n",
              "      <td>0.005293</td>\n",
              "      <td>0.003105</td>\n",
              "      <td>0.013282</td>\n",
              "      <td>0.014102</td>\n",
              "      <td>0.006918</td>\n",
              "      <td>0.979974</td>\n",
              "    </tr>\n",
              "    <tr>\n",
              "      <th>12</th>\n",
              "      <td>0.003423</td>\n",
              "      <td>0.011574</td>\n",
              "      <td>0.009189</td>\n",
              "      <td>0.977307</td>\n",
              "      <td>0.005815</td>\n",
              "      <td>0.010776</td>\n",
              "      <td>0.011183</td>\n",
              "    </tr>\n",
              "    <tr>\n",
              "      <th>13</th>\n",
              "      <td>0.981129</td>\n",
              "      <td>0.000589</td>\n",
              "      <td>0.006574</td>\n",
              "      <td>0.010093</td>\n",
              "      <td>0.002402</td>\n",
              "      <td>0.012912</td>\n",
              "      <td>0.011789</td>\n",
              "    </tr>\n",
              "  </tbody>\n",
              "</table>\n",
              "</div>"
            ],
            "text/plain": [
              "           0         1         2         3         4         5         6\n",
              "0   0.009013  0.981638  0.004312  0.008676  0.013724  0.002006  0.002570\n",
              "1   0.013463  0.014858  0.972766  0.014017  0.003380  0.013042  0.011979\n",
              "2   0.014029  0.004032  0.007944  0.008111  0.010963  0.979035  0.008364\n",
              "3   0.976908  0.006033  0.011810  0.001655  0.009269  0.008350  0.004159\n",
              "4   0.005919  0.005452  0.003029  0.012165  0.979064  0.005292  0.009345\n",
              "5   0.012518  0.011079  0.003124  0.978669  0.003990  0.009378  0.010984\n",
              "6   0.007632  0.986058  0.007954  0.010766  0.008500  0.004512  0.006194\n",
              "7   0.012081  0.007837  0.012442  0.006675  0.005763  0.006142  0.980288\n",
              "8   0.012439  0.005164  0.009296  0.007389  0.009691  0.979345  0.007630\n",
              "9   0.003285  0.983609  0.011031  0.012406  0.013027  0.001736  0.007736\n",
              "10  0.007509  0.016539  0.001185  0.004708  0.978424  0.016186  0.008544\n",
              "11  0.005178  0.005293  0.003105  0.013282  0.014102  0.006918  0.979974\n",
              "12  0.003423  0.011574  0.009189  0.977307  0.005815  0.010776  0.011183\n",
              "13  0.981129  0.000589  0.006574  0.010093  0.002402  0.012912  0.011789"
            ]
          },
          "metadata": {
            "tags": []
          },
          "execution_count": 120
        }
      ]
    },
    {
      "cell_type": "code",
      "metadata": {
        "colab": {
          "base_uri": "https://localhost:8080/"
        },
        "id": "OFNZsQbJemaW",
        "outputId": "73203422-110c-4199-9b8e-57745819f404"
      },
      "source": [
        "print(modeloRuido.epocas)"
      ],
      "execution_count": null,
      "outputs": [
        {
          "output_type": "stream",
          "text": [
            "997\n"
          ],
          "name": "stdout"
        }
      ]
    },
    {
      "cell_type": "markdown",
      "metadata": {
        "id": "DNBQ-h9hEA5h"
      },
      "source": [
        "Matriz de Confusao do Treinamento"
      ]
    },
    {
      "cell_type": "code",
      "metadata": {
        "colab": {
          "base_uri": "https://localhost:8080/"
        },
        "id": "C0W8VehPBKS7",
        "outputId": "32f7c191-b0af-4291-b34b-00c122937cd7"
      },
      "source": [
        "#UNIAO DAS RESPOSTAS PARA FAZER TODOS OS LABELS POSSIVEIS DA MATRIZ\n",
        "jedo = fazLetra(fazBin(feedforward(modeloRuido, entreinoR.T).T))\n",
        "jeda = fazLetra(saitreinoR)\n",
        "\n",
        "#MONTA MATRIZ\n",
        "cm = confusion_matrix(jedo, jeda, binary=False)\n",
        "uniao = np.union1d(jeda, jedo)\n",
        "df_cm = pd.DataFrame(cm,  columns=np.unique(uniao), index = np.unique(uniao))\n",
        "df_cm.index.name = 'Expectativa'\n",
        "df_cm.columns.name = 'Realidade'\n",
        "figu = plt.figure(figsize = (8,7))\n",
        "figu.patch.set_facecolor('white')\n",
        "plt.title(\"\\nMatriz de Confusão Treinamento Com Ruido\\n\")\n",
        "sn.heatmap(df_cm, annot=True, linewidths=.5, cbar = False) "
      ],
      "execution_count": null,
      "outputs": [
        {
          "output_type": "execute_result",
          "data": {
            "text/plain": [
              "<matplotlib.axes._subplots.AxesSubplot at 0x7fcaa6828fd0>"
            ]
          },
          "metadata": {
            "tags": []
          },
          "execution_count": 122
        },
        {
          "output_type": "display_data",
          "data": {
            "image/png": "[encoded data removed]",
            "text/plain": [
              "<Figure size 576x504 with 1 Axes>"
            ]
          },
          "metadata": {
            "tags": []
          }
        }
      ]
    },
    {
      "cell_type": "markdown",
      "metadata": {
        "id": "InvCb2Ox-lV7"
      },
      "source": [
        "### **Teste**"
      ]
    },
    {
      "cell_type": "code",
      "metadata": {
        "colab": {
          "base_uri": "https://localhost:8080/"
        },
        "id": "bGyfJqkT-nku",
        "outputId": "e1689692-0d02-485a-be22-660d8e9d6cfc"
      },
      "source": [
        "\n",
        "#TESTE RUIDO\n",
        "jedoR = fazLetra(saitesteR) #transforma resposta certa em letra\n",
        "print(\"Resultado certo:\", jedoR) \n",
        "testesetR = pd.DataFrame(saitesteR)\n",
        "print(testesetR.head(saitesteR.shape[0]), \"\\n\\n\")\n",
        "\n",
        "print(\"Resultado Obtido:\")\n",
        "ruidoTESTE = pd.DataFrame(feedforward(modeloRuido, entesteR.T).T)\n",
        "print(ruidoTESTE.head(ruidoTESTE.shape[0]), \"\\n\\n\")\n",
        "\n",
        "variavelR = fazBin(ruidoTESTE) #transforma resposta da rede em binario\n",
        "jedaR = fazLetra(variavelR) #transforma binario em letra\n",
        "print(\"Resultado Aproximado:\", jedaR)\n",
        "print(pd.DataFrame(variavelR).head(ruidoTESTE.shape[0]))\n"
      ],
      "execution_count": null,
      "outputs": [
        {
          "output_type": "stream",
          "text": [
            "Resultado certo: ['J' 'D' 'C' 'C' 'A' 'E' 'K']\n",
            "   0  1  2  3  4  5  6\n",
            "0  0  0  0  0  0  1  0\n",
            "1  0  0  0  1  0  0  0\n",
            "2  0  0  1  0  0  0  0\n",
            "3  0  0  1  0  0  0  0\n",
            "4  1  0  0  0  0  0  0\n",
            "5  0  0  0  0  1  0  0\n",
            "6  0  0  0  0  0  0  1 \n",
            "\n",
            "\n",
            "Resultado Obtido:\n",
            "          0         1         2         3         4         5         6\n",
            "0  0.004156  0.003575  0.016767  0.004866  0.012889  0.934905  0.016691\n",
            "1  0.006509  0.151919  0.002438  0.707310  0.007446  0.011866  0.008411\n",
            "2  0.001933  0.130445  0.141001  0.002067  0.051686  0.098772  0.208846\n",
            "3  0.003489  0.025549  0.347556  0.070387  0.004412  0.062535  0.020313\n",
            "4  0.848550  0.011453  0.003727  0.006809  0.005864  0.120563  0.050227\n",
            "5  0.008746  0.078105  0.005864  0.064394  0.071950  0.058034  0.034936\n",
            "6  0.007634  0.000874  0.001268  0.030480  0.170931  0.010596  0.551233 \n",
            "\n",
            "\n",
            "Resultado Aproximado: ['J' 'D' 'K' 'C' 'A' 'B' 'K']\n",
            "   0  1  2  3  4  5  6\n",
            "0  0  0  0  0  0  1  0\n",
            "1  0  0  0  1  0  0  0\n",
            "2  0  0  0  0  0  0  1\n",
            "3  0  0  1  0  0  0  0\n",
            "4  1  0  0  0  0  0  0\n",
            "5  0  1  0  0  0  0  0\n",
            "6  0  0  0  0  0  0  1\n"
          ],
          "name": "stdout"
        }
      ]
    },
    {
      "cell_type": "markdown",
      "metadata": {
        "id": "tybYKEA9-qXW"
      },
      "source": [
        "### **Matriz de Confusão**"
      ]
    },
    {
      "cell_type": "code",
      "metadata": {
        "colab": {
          "base_uri": "https://localhost:8080/"
        },
        "id": "VfcbQ3x9-uaq",
        "outputId": "1d9a826d-6b32-48ef-8aaa-4ec8b8f6298b"
      },
      "source": [
        "#MATRIZ\n",
        "cm = confusion_matrix(jedoR, jedaR, binary=False)\n",
        "\n",
        "#UNIAO DOS LABELS POSSIVEIS NA MATRIZ\n",
        "uniao = np.union1d(jedaR, jedoR)\n",
        "\n",
        "#REP GRAFICA\n",
        "df_cm = pd.DataFrame(cm,  columns=np.unique(uniao), index = np.unique(uniao))\n",
        "df_cm.index.name = 'Expectativa'\n",
        "df_cm.columns.name = 'Realidade'\n",
        "figu = plt.figure(figsize = (8,7))\n",
        "figu.patch.set_facecolor('white')\n",
        "plt.title(\"\\nMatriz de Confusão com Ruido\\n\")\n",
        "sn.heatmap(df_cm, annot=True, linewidths=.5, cbar = False) "
      ],
      "execution_count": null,
      "outputs": [
        {
          "output_type": "execute_result",
          "data": {
            "text/plain": [
              "<matplotlib.axes._subplots.AxesSubplot at 0x7fcaa66d3a90>"
            ]
          },
          "metadata": {
            "tags": []
          },
          "execution_count": 124
        },
        {
          "output_type": "display_data",
          "data": {
            "image/png": "[encoded data removed]",
            "text/plain": [
              "<Figure size 576x504 with 1 Axes>"
            ]
          },
          "metadata": {
            "tags": []
          }
        }
      ]
    }
  ]
}